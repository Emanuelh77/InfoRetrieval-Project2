{
  "nbformat": 4,
  "nbformat_minor": 0,
  "metadata": {
    "kernelspec": {
      "display_name": "Python 3",
      "language": "python",
      "name": "python3"
    },
    "language_info": {
      "codemirror_mode": {
        "name": "ipython",
        "version": 3
      },
      "file_extension": ".py",
      "mimetype": "text/x-python",
      "name": "python",
      "nbconvert_exporter": "python",
      "pygments_lexer": "ipython3",
      "version": "3.7.3"
    },
    "colab": {
      "name": "suggestion.ipynb",
      "provenance": [],
      "collapsed_sections": []
    }
  },
  "cells": [
    {
      "cell_type": "code",
      "metadata": {
        "id": "GHvSlhds00gX",
        "colab_type": "code",
        "colab": {}
      },
      "source": [
        "import pandas as pd\n",
        "import glob\n",
        "import dask.dataframe as dd\n",
        "from google.colab import files\n",
        "import io\n",
        "import sys\n",
        "import os\n",
        "import re\n",
        "import collections"
      ],
      "execution_count": 0,
      "outputs": []
    },
    {
      "cell_type": "code",
      "metadata": {
        "id": "fCqCx3f0guNT",
        "colab_type": "code",
        "colab": {}
      },
      "source": [
        "upload = files.upload()"
      ],
      "execution_count": 0,
      "outputs": []
    },
    {
      "cell_type": "code",
      "metadata": {
        "id": "Tmp50DXEbyIn",
        "colab_type": "code",
        "colab": {}
      },
      "source": [
        "def process_recipies(filepath):\n",
        "  global recipie_IDs\n",
        "\n",
        "  with open(filepath) as fp:\n",
        "    for cnt, line in enumerate(fp):\n",
        "      try:\n",
        "        line = line.rstrip('\\n')\n",
        "        tokens = line.split(\",\")\n",
        "        recipie = tokens[0]\n",
        "        recipie_id = int(tokens[1])\n",
        "\n",
        "        if recipie in recipie_IDs.keys():\n",
        "          recipie_IDs[recipie].append(recipie_id)\n",
        "        else:\n",
        "          recipie_IDs.update({recipie : [recipie_id]})\n",
        "              \n",
        "      except:\n",
        "        print(\"bad recipie\")\n",
        "\n",
        "def process_reviews(filepath):\n",
        "  global recipieIDs_avgRating\n",
        "\n",
        "  with open(filepath) as fp:\n",
        "    for cnt, line in enumerate(fp):\n",
        "      try:\n",
        "        line = line.rstrip('\\n')\n",
        "        tokens = line.split(\",\")\n",
        "        recipie_id = int(tokens[1])\n",
        "        rating = int(tokens[3])\n",
        "\n",
        "        if recipie_id in recipieIDs_avgRating.keys():\n",
        "          recipieIDs_avgRating[recipie_id].append(rating)\n",
        "        else:\n",
        "          recipieIDs_avgRating.update({recipie_id : [rating]})\n",
        "              \n",
        "      except:\n",
        "        print(\"bad review\")\n",
        "\n",
        "  for recipie in recipieIDs_avgRating.keys():\n",
        "    recipieIDs_avgRating[recipie] = sum(recipieIDs_avgRating[recipie]) / len(recipieIDs_avgRating[recipie])\n",
        "    \n",
        "\n",
        "\n",
        "def combine_recipies_ratings(recipies,ratings):\n",
        "  global recipie_avgRating\n",
        "  \n",
        "  try:\n",
        "    for recipie in recipies.keys():\n",
        "      for ID in recipies[recipie]:\n",
        "        if recipie in recipie_avgRating.keys():\n",
        "          recipie_avgRating[recipie].append(ratings[ID])\n",
        "        else:\n",
        "          recipie_avgRating.update({recipie : [ratings[ID]]})\n",
        "  except:\n",
        "    print(\"no review for recipie\")\n",
        "\n",
        "  for recipie in recipie_avgRating.keys():\n",
        "    recipie_avgRating[recipie] = sum(recipie_avgRating[recipie]) / len(recipie_avgRating[recipie])\n",
        "        \n",
        "def find_queries(query):\n",
        "  query = query.lower()\n",
        "  \n",
        "  cq = {}\n",
        "  for recipe in recipie_avgRating.keys():\n",
        "    if query in recipe:\n",
        "      cq.update({recipe : recipie_avgRating[recipe]})\n",
        "\n",
        "  top5 = []\n",
        "  for i in range(5):\n",
        "    top5.append(max(cq, key=cq.get))\n",
        "    del cq[max(cq, key=cq.get)]\n",
        "\n",
        "  return top5\n",
        "\n",
        "  "
      ],
      "execution_count": 0,
      "outputs": []
    },
    {
      "cell_type": "code",
      "metadata": {
        "id": "fLYKuEnOXIuf",
        "colab_type": "code",
        "colab": {}
      },
      "source": [
        "recipieIDs_avgRating = {}\n",
        "recipie_IDs = {}\n",
        "\n",
        "process_recipies(r'RAW_recipes.csv')\n",
        "process_reviews(r'RAW_interactions.csv')"
      ],
      "execution_count": 0,
      "outputs": []
    },
    {
      "cell_type": "code",
      "metadata": {
        "id": "fKgWTvLL9rIN",
        "colab_type": "code",
        "colab": {
          "base_uri": "https://localhost:8080/",
          "height": 104
        },
        "outputId": "80d9e80f-77d5-4554-e21b-2c8c0bd8388b"
      },
      "source": [
        "print(len(recipie_IDs))\n",
        "print(len(recipieIDs_avgRating))\n",
        "print(recipie_IDs['chili'])\n",
        "print(recipieIDs_avgRating[58862])\n",
        "print(recipieIDs_avgRating[371156])\n"
      ],
      "execution_count": 31,
      "outputs": [
        {
          "output_type": "stream",
          "text": [
            "230193\n",
            "231638\n",
            "[58862, 371156]\n",
            "4.666666666666667\n",
            "5.0\n"
          ],
          "name": "stdout"
        }
      ]
    },
    {
      "cell_type": "code",
      "metadata": {
        "id": "--YQnTpsTSBh",
        "colab_type": "code",
        "colab": {
          "base_uri": "https://localhost:8080/",
          "height": 35
        },
        "outputId": "c4a16f0e-a470-42d0-8cf9-ec33a2f9bc4e"
      },
      "source": [
        "recipie_avgRating = {}\n",
        "combine_recipies_ratings(recipie_IDs, recipieIDs_avgRating)"
      ],
      "execution_count": 19,
      "outputs": [
        {
          "output_type": "stream",
          "text": [
            "no review for recipie\n"
          ],
          "name": "stdout"
        }
      ]
    },
    {
      "cell_type": "code",
      "metadata": {
        "id": "SkdvGXjXUjP6",
        "colab_type": "code",
        "colab": {}
      },
      "source": [
        "print(len(recipie_avgRating))\n",
        "print(recipie_avgRating['chili'])"
      ],
      "execution_count": 0,
      "outputs": []
    },
    {
      "cell_type": "code",
      "metadata": {
        "id": "bMd4JeVTJ0XG",
        "colab_type": "code",
        "outputId": "02585281-86c4-4844-c392-98fc6d7dd63d",
        "colab": {
          "base_uri": "https://localhost:8080/",
          "height": 55
        }
      },
      "source": [
        "q = \"taco\"\n",
        "\n",
        "print(find_queries(q))"
      ],
      "execution_count": 40,
      "outputs": [
        {
          "output_type": "stream",
          "text": [
            "['global gourmet  taco casserole', 'the man s  taco dip', 'party  taco dip', 'trash bag  taco salad', '10 minute tvp tacos  modified   hot single guy version']\n"
          ],
          "name": "stdout"
        }
      ]
    },
    {
      "cell_type": "code",
      "metadata": {
        "id": "1V4QXg7TcWRe",
        "colab_type": "code",
        "colab": {}
      },
      "source": [
        ""
      ],
      "execution_count": 0,
      "outputs": []
    }
  ]
}