{
 "cells": [
  {
   "cell_type": "code",
   "execution_count": 96,
   "metadata": {},
   "outputs": [],
   "source": [
    "import pandas as pd\n",
    "import numpy as np\n",
    "import math\n",
    "import json\n",
    "import yaml\n",
    "import operator\n",
    "\n",
    "from itertools import combinations\n",
    "from collections import Counter as ctr\n",
    "\n",
    "from nltk.corpus import stopwords\n",
    "from nltk.stem import WordNetLemmatizer\n",
    "from nltk.stem import PorterStemmer\n",
    "from nltk.tokenize import word_tokenize\n",
    "from nltk.tokenize import sent_tokenize\n",
    "from nltk.corpus import wordnet\n",
    "from tqdm import tqdm\n",
    "import ast"
   ]
  },
  {
   "cell_type": "code",
   "execution_count": 14,
   "metadata": {},
   "outputs": [],
   "source": [
    "index_food_tfidf = pd.read_csv('new_food_tfidfindex.csv', names=['word', 'tf-idf'])\n",
    "index_food_tfidf[\"tf-idf\"] = [ast.literal_eval(x) for x in index_food_tfidf['tf-idf']]"
   ]
  },
  {
   "cell_type": "code",
   "execution_count": 15,
   "metadata": {
    "scrolled": true
   },
   "outputs": [
    {
     "data": {
      "text/html": [
       "<div>\n",
       "<style scoped>\n",
       "    .dataframe tbody tr th:only-of-type {\n",
       "        vertical-align: middle;\n",
       "    }\n",
       "\n",
       "    .dataframe tbody tr th {\n",
       "        vertical-align: top;\n",
       "    }\n",
       "\n",
       "    .dataframe thead th {\n",
       "        text-align: right;\n",
       "    }\n",
       "</style>\n",
       "<table border=\"1\" class=\"dataframe\">\n",
       "  <thead>\n",
       "    <tr style=\"text-align: right;\">\n",
       "      <th></th>\n",
       "      <th>word</th>\n",
       "      <th>tf-idf</th>\n",
       "    </tr>\n",
       "  </thead>\n",
       "  <tbody>\n",
       "    <tr>\n",
       "      <th>0</th>\n",
       "      <td>alwaysalway</td>\n",
       "      <td>{94736: 5.940502063907854}</td>\n",
       "    </tr>\n",
       "    <tr>\n",
       "      <th>1</th>\n",
       "      <td>venegar</td>\n",
       "      <td>{84735: 5.940502063907854}</td>\n",
       "    </tr>\n",
       "    <tr>\n",
       "      <th>2</th>\n",
       "      <td>flaver</td>\n",
       "      <td>{83749: 5.412181230334135, 107751: 5.412181230...</td>\n",
       "    </tr>\n",
       "    <tr>\n",
       "      <th>3</th>\n",
       "      <td>yasner</td>\n",
       "      <td>{112034: 8.91075309586178}</td>\n",
       "    </tr>\n",
       "    <tr>\n",
       "      <th>4</th>\n",
       "      <td>outlandish</td>\n",
       "      <td>{83793: 8.91075309586178}</td>\n",
       "    </tr>\n",
       "    <tr>\n",
       "      <th>5</th>\n",
       "      <td>claxton</td>\n",
       "      <td>{172856: 5.940502063907854}</td>\n",
       "    </tr>\n",
       "    <tr>\n",
       "      <th>6</th>\n",
       "      <td>mishmong</td>\n",
       "      <td>{115018: 8.91075309586178}</td>\n",
       "    </tr>\n",
       "    <tr>\n",
       "      <th>7</th>\n",
       "      <td>podi</td>\n",
       "      <td>{68916: 4.45537654793089}</td>\n",
       "    </tr>\n",
       "    <tr>\n",
       "      <th>8</th>\n",
       "      <td>flourlesss</td>\n",
       "      <td>{51060: 8.91075309586178}</td>\n",
       "    </tr>\n",
       "    <tr>\n",
       "      <th>9</th>\n",
       "      <td>carpatho</td>\n",
       "      <td>{187454: 8.91075309586178}</td>\n",
       "    </tr>\n",
       "    <tr>\n",
       "      <th>10</th>\n",
       "      <td>bromelain</td>\n",
       "      <td>{7480: 5.078847897000802, 80866: 10.1576957940...</td>\n",
       "    </tr>\n",
       "    <tr>\n",
       "      <th>11</th>\n",
       "      <td>oameal</td>\n",
       "      <td>{228136: 4.45537654793089}</td>\n",
       "    </tr>\n",
       "    <tr>\n",
       "      <th>12</th>\n",
       "      <td>plotz</td>\n",
       "      <td>{206089: 5.940502063907854}</td>\n",
       "    </tr>\n",
       "    <tr>\n",
       "      <th>13</th>\n",
       "      <td>unhydrogen</td>\n",
       "      <td>{2713: 3.5643012383447124}</td>\n",
       "    </tr>\n",
       "    <tr>\n",
       "      <th>14</th>\n",
       "      <td>farmstead</td>\n",
       "      <td>{124983: 8.118271845501203, 181894: 3.24730873...</td>\n",
       "    </tr>\n",
       "    <tr>\n",
       "      <th>15</th>\n",
       "      <td>tucsan</td>\n",
       "      <td>{124662: 8.91075309586178}</td>\n",
       "    </tr>\n",
       "    <tr>\n",
       "      <th>16</th>\n",
       "      <td>backdrop</td>\n",
       "      <td>{68822: 2.3195062415717724, 112850: 5.41218123...</td>\n",
       "    </tr>\n",
       "    <tr>\n",
       "      <th>17</th>\n",
       "      <td>pete</td>\n",
       "      <td>{3018: 3.266654672390023, 21028: 4.35553956318...</td>\n",
       "    </tr>\n",
       "    <tr>\n",
       "      <th>18</th>\n",
       "      <td>atroganoff</td>\n",
       "      <td>{126780: 17.82150619172356}</td>\n",
       "    </tr>\n",
       "    <tr>\n",
       "      <th>19</th>\n",
       "      <td>sofia</td>\n",
       "      <td>{161135: 5.940502063907854}</td>\n",
       "    </tr>\n",
       "    <tr>\n",
       "      <th>20</th>\n",
       "      <td>thristi</td>\n",
       "      <td>{143946: 3.5643012383447124}</td>\n",
       "    </tr>\n",
       "    <tr>\n",
       "      <th>21</th>\n",
       "      <td>wheatgrass</td>\n",
       "      <td>{229600: 8.91075309586178}</td>\n",
       "    </tr>\n",
       "    <tr>\n",
       "      <th>22</th>\n",
       "      <td>mauritiu</td>\n",
       "      <td>{68578: 7.91075309586178, 96572: 1.13010758512...</td>\n",
       "    </tr>\n",
       "    <tr>\n",
       "      <th>23</th>\n",
       "      <td>scar</td>\n",
       "      <td>{213822: 4.45537654793089}</td>\n",
       "    </tr>\n",
       "    <tr>\n",
       "      <th>24</th>\n",
       "      <td>errand</td>\n",
       "      <td>{5619: 5.004717089888652, 37480: 7.50707563483...</td>\n",
       "    </tr>\n",
       "    <tr>\n",
       "      <th>25</th>\n",
       "      <td>toat</td>\n",
       "      <td>{28191: 4.20537654793089, 40000: 5.60716873057...</td>\n",
       "    </tr>\n",
       "    <tr>\n",
       "      <th>26</th>\n",
       "      <td>neolith</td>\n",
       "      <td>{96569: 5.940502063907854}</td>\n",
       "    </tr>\n",
       "    <tr>\n",
       "      <th>27</th>\n",
       "      <td>oth</td>\n",
       "      <td>{130313: 8.41075309586178, 144057: 8.410753095...</td>\n",
       "    </tr>\n",
       "    <tr>\n",
       "      <th>28</th>\n",
       "      <td>cachou</td>\n",
       "      <td>{92335: 5.273835397241187, 92356: 5.2738353972...</td>\n",
       "    </tr>\n",
       "    <tr>\n",
       "      <th>29</th>\n",
       "      <td>begrudgingli</td>\n",
       "      <td>{141602: 2.5459294559605086}</td>\n",
       "    </tr>\n",
       "    <tr>\n",
       "      <th>...</th>\n",
       "      <td>...</td>\n",
       "      <td>...</td>\n",
       "    </tr>\n",
       "    <tr>\n",
       "      <th>43538</th>\n",
       "      <td>bakari</td>\n",
       "      <td>{13223: 4.20537654793089, 79872: 3.36430123834...</td>\n",
       "    </tr>\n",
       "    <tr>\n",
       "      <th>43539</th>\n",
       "      <td>gbmom</td>\n",
       "      <td>{202870: 5.940502063907854}</td>\n",
       "    </tr>\n",
       "    <tr>\n",
       "      <th>43540</th>\n",
       "      <td>zigato</td>\n",
       "      <td>{43590: 4.45537654793089}</td>\n",
       "    </tr>\n",
       "    <tr>\n",
       "      <th>43541</th>\n",
       "      <td>flay</td>\n",
       "      <td>{927: 5.0200732390994505, 2628: 5.020073239099...</td>\n",
       "    </tr>\n",
       "    <tr>\n",
       "      <th>43542</th>\n",
       "      <td>nadin</td>\n",
       "      <td>{29253: 7.507075634832979, 132959: 5.004717089...</td>\n",
       "    </tr>\n",
       "    <tr>\n",
       "      <th>43543</th>\n",
       "      <td>georgou</td>\n",
       "      <td>{105373: 4.20537654793089, 225451: 4.205376547...</td>\n",
       "    </tr>\n",
       "    <tr>\n",
       "      <th>43544</th>\n",
       "      <td>weyand</td>\n",
       "      <td>{182946: 3.5643012383447124}</td>\n",
       "    </tr>\n",
       "    <tr>\n",
       "      <th>43545</th>\n",
       "      <td>prolifer</td>\n",
       "      <td>{220930: 8.91075309586178}</td>\n",
       "    </tr>\n",
       "    <tr>\n",
       "      <th>43546</th>\n",
       "      <td>pinappl</td>\n",
       "      <td>{21864: 7.91075309586178, 151482: 7.9107530958...</td>\n",
       "    </tr>\n",
       "    <tr>\n",
       "      <th>43547</th>\n",
       "      <td>everett</td>\n",
       "      <td>{35684: 7.507075634832979, 68799: 5.0047170898...</td>\n",
       "    </tr>\n",
       "    <tr>\n",
       "      <th>43548</th>\n",
       "      <td>nelson</td>\n",
       "      <td>{868: 4.6382051987050135, 3356: 3.478653899028...</td>\n",
       "    </tr>\n",
       "    <tr>\n",
       "      <th>43549</th>\n",
       "      <td>besan</td>\n",
       "      <td>{3218: 6.3257905951406235, 4162: 4.21719373009...</td>\n",
       "    </tr>\n",
       "    <tr>\n",
       "      <th>43550</th>\n",
       "      <td>immit</td>\n",
       "      <td>{59956: 5.412181230334135, 176890: 8.118271845...</td>\n",
       "    </tr>\n",
       "    <tr>\n",
       "      <th>43551</th>\n",
       "      <td>speedo</td>\n",
       "      <td>{212150: 2.970251031953927}</td>\n",
       "    </tr>\n",
       "    <tr>\n",
       "      <th>43552</th>\n",
       "      <td>wetpack</td>\n",
       "      <td>{43632: 5.940502063907854}</td>\n",
       "    </tr>\n",
       "    <tr>\n",
       "      <th>43553</th>\n",
       "      <td>asiat</td>\n",
       "      <td>{91786: 2.970251031953927}</td>\n",
       "    </tr>\n",
       "    <tr>\n",
       "      <th>43554</th>\n",
       "      <td>dhoogh</td>\n",
       "      <td>{447: 8.91075309586178}</td>\n",
       "    </tr>\n",
       "    <tr>\n",
       "      <th>43555</th>\n",
       "      <td>camillo</td>\n",
       "      <td>{72715: 5.940502063907854}</td>\n",
       "    </tr>\n",
       "    <tr>\n",
       "      <th>43556</th>\n",
       "      <td>luvthelord</td>\n",
       "      <td>{156174: 2.970251031953927}</td>\n",
       "    </tr>\n",
       "    <tr>\n",
       "      <th>43557</th>\n",
       "      <td>linguin</td>\n",
       "      <td>{161: 4.073656961788939, 956: 1.62946278471557...</td>\n",
       "    </tr>\n",
       "    <tr>\n",
       "      <th>43558</th>\n",
       "      <td>stepaniak</td>\n",
       "      <td>{3973: 6.8257905951406235, 22986: 4.5505270634...</td>\n",
       "    </tr>\n",
       "    <tr>\n",
       "      <th>43559</th>\n",
       "      <td>ulim</td>\n",
       "      <td>{185960: 8.91075309586178}</td>\n",
       "    </tr>\n",
       "    <tr>\n",
       "      <th>43560</th>\n",
       "      <td>omer</td>\n",
       "      <td>{57297: 16.236543691002407, 104615: 8.11827184...</td>\n",
       "    </tr>\n",
       "    <tr>\n",
       "      <th>43561</th>\n",
       "      <td>wekk</td>\n",
       "      <td>{114859: 8.91075309586178}</td>\n",
       "    </tr>\n",
       "    <tr>\n",
       "      <th>43562</th>\n",
       "      <td>immediaci</td>\n",
       "      <td>{158374: 8.91075309586178}</td>\n",
       "    </tr>\n",
       "    <tr>\n",
       "      <th>43563</th>\n",
       "      <td>harb</td>\n",
       "      <td>{64644: 5.940502063907854}</td>\n",
       "    </tr>\n",
       "    <tr>\n",
       "      <th>43564</th>\n",
       "      <td>citric</td>\n",
       "      <td>{1373: 4.882718539043341, 1667: 4.068932115869...</td>\n",
       "    </tr>\n",
       "    <tr>\n",
       "      <th>43565</th>\n",
       "      <td>hee</td>\n",
       "      <td>{448: 4.8331926989454, 6765: 14.4995780968362,...</td>\n",
       "    </tr>\n",
       "    <tr>\n",
       "      <th>43566</th>\n",
       "      <td>everyear</td>\n",
       "      <td>{4543: 8.91075309586178}</td>\n",
       "    </tr>\n",
       "    <tr>\n",
       "      <th>43567</th>\n",
       "      <td>geema</td>\n",
       "      <td>{17277: 3.8748945242090493, 67468: 7.749789048...</td>\n",
       "    </tr>\n",
       "  </tbody>\n",
       "</table>\n",
       "<p>43568 rows × 2 columns</p>\n",
       "</div>"
      ],
      "text/plain": [
       "               word                                             tf-idf\n",
       "0       alwaysalway                         {94736: 5.940502063907854}\n",
       "1           venegar                         {84735: 5.940502063907854}\n",
       "2            flaver  {83749: 5.412181230334135, 107751: 5.412181230...\n",
       "3            yasner                         {112034: 8.91075309586178}\n",
       "4        outlandish                          {83793: 8.91075309586178}\n",
       "5           claxton                        {172856: 5.940502063907854}\n",
       "6          mishmong                         {115018: 8.91075309586178}\n",
       "7              podi                          {68916: 4.45537654793089}\n",
       "8        flourlesss                          {51060: 8.91075309586178}\n",
       "9          carpatho                         {187454: 8.91075309586178}\n",
       "10        bromelain  {7480: 5.078847897000802, 80866: 10.1576957940...\n",
       "11           oameal                         {228136: 4.45537654793089}\n",
       "12            plotz                        {206089: 5.940502063907854}\n",
       "13       unhydrogen                         {2713: 3.5643012383447124}\n",
       "14        farmstead  {124983: 8.118271845501203, 181894: 3.24730873...\n",
       "15           tucsan                         {124662: 8.91075309586178}\n",
       "16         backdrop  {68822: 2.3195062415717724, 112850: 5.41218123...\n",
       "17             pete  {3018: 3.266654672390023, 21028: 4.35553956318...\n",
       "18       atroganoff                        {126780: 17.82150619172356}\n",
       "19            sofia                        {161135: 5.940502063907854}\n",
       "20          thristi                       {143946: 3.5643012383447124}\n",
       "21       wheatgrass                         {229600: 8.91075309586178}\n",
       "22         mauritiu  {68578: 7.91075309586178, 96572: 1.13010758512...\n",
       "23             scar                         {213822: 4.45537654793089}\n",
       "24           errand  {5619: 5.004717089888652, 37480: 7.50707563483...\n",
       "25             toat  {28191: 4.20537654793089, 40000: 5.60716873057...\n",
       "26          neolith                         {96569: 5.940502063907854}\n",
       "27              oth  {130313: 8.41075309586178, 144057: 8.410753095...\n",
       "28           cachou  {92335: 5.273835397241187, 92356: 5.2738353972...\n",
       "29     begrudgingli                       {141602: 2.5459294559605086}\n",
       "...             ...                                                ...\n",
       "43538        bakari  {13223: 4.20537654793089, 79872: 3.36430123834...\n",
       "43539         gbmom                        {202870: 5.940502063907854}\n",
       "43540        zigato                          {43590: 4.45537654793089}\n",
       "43541          flay  {927: 5.0200732390994505, 2628: 5.020073239099...\n",
       "43542         nadin  {29253: 7.507075634832979, 132959: 5.004717089...\n",
       "43543       georgou  {105373: 4.20537654793089, 225451: 4.205376547...\n",
       "43544        weyand                       {182946: 3.5643012383447124}\n",
       "43545      prolifer                         {220930: 8.91075309586178}\n",
       "43546       pinappl  {21864: 7.91075309586178, 151482: 7.9107530958...\n",
       "43547       everett  {35684: 7.507075634832979, 68799: 5.0047170898...\n",
       "43548        nelson  {868: 4.6382051987050135, 3356: 3.478653899028...\n",
       "43549         besan  {3218: 6.3257905951406235, 4162: 4.21719373009...\n",
       "43550         immit  {59956: 5.412181230334135, 176890: 8.118271845...\n",
       "43551        speedo                        {212150: 2.970251031953927}\n",
       "43552       wetpack                         {43632: 5.940502063907854}\n",
       "43553         asiat                         {91786: 2.970251031953927}\n",
       "43554        dhoogh                            {447: 8.91075309586178}\n",
       "43555       camillo                         {72715: 5.940502063907854}\n",
       "43556    luvthelord                        {156174: 2.970251031953927}\n",
       "43557       linguin  {161: 4.073656961788939, 956: 1.62946278471557...\n",
       "43558     stepaniak  {3973: 6.8257905951406235, 22986: 4.5505270634...\n",
       "43559          ulim                         {185960: 8.91075309586178}\n",
       "43560          omer  {57297: 16.236543691002407, 104615: 8.11827184...\n",
       "43561          wekk                         {114859: 8.91075309586178}\n",
       "43562     immediaci                         {158374: 8.91075309586178}\n",
       "43563          harb                         {64644: 5.940502063907854}\n",
       "43564        citric  {1373: 4.882718539043341, 1667: 4.068932115869...\n",
       "43565           hee  {448: 4.8331926989454, 6765: 14.4995780968362,...\n",
       "43566      everyear                           {4543: 8.91075309586178}\n",
       "43567         geema  {17277: 3.8748945242090493, 67468: 7.749789048...\n",
       "\n",
       "[43568 rows x 2 columns]"
      ]
     },
     "execution_count": 15,
     "metadata": {},
     "output_type": "execute_result"
    }
   ],
   "source": [
    "index_food_tfidf"
   ]
  },
  {
   "cell_type": "code",
   "execution_count": 92,
   "metadata": {},
   "outputs": [],
   "source": [
    "data_combined = pd.read_csv('new_recipes.csv')"
   ]
  },
  {
   "cell_type": "code",
   "execution_count": null,
   "metadata": {},
   "outputs": [],
   "source": []
  },
  {
   "cell_type": "code",
   "execution_count": null,
   "metadata": {},
   "outputs": [],
   "source": []
  },
  {
   "cell_type": "code",
   "execution_count": 90,
   "metadata": {},
   "outputs": [],
   "source": [
    "rt = index_food_tfidf.loc[index_food_tfidf.word == 'chocol', 'tf-idf'].item()\n",
    "rt2 = index_food_tfidf.loc[index_food_tfidf.word == 'churro', 'tf-idf'].item()\n",
    "p = set(rt.keys()).intersection(rt2.keys())"
   ]
  },
  {
   "cell_type": "code",
   "execution_count": 91,
   "metadata": {},
   "outputs": [
    {
     "data": {
      "text/plain": [
       "{49568, 49569, 53095, 53099, 53100, 53102, 53104, 54921, 130654, 193898}"
      ]
     },
     "execution_count": 91,
     "metadata": {},
     "output_type": "execute_result"
    }
   ],
   "source": [
    "p"
   ]
  },
  {
   "cell_type": "code",
   "execution_count": 89,
   "metadata": {},
   "outputs": [
    {
     "data": {
      "text/plain": [
       "['churro']"
      ]
     },
     "execution_count": 89,
     "metadata": {},
     "output_type": "execute_result"
    }
   ],
   "source": [
    "x = clean('churro')\n",
    "x"
   ]
  },
  {
   "cell_type": "code",
   "execution_count": null,
   "metadata": {},
   "outputs": [],
   "source": []
  },
  {
   "cell_type": "code",
   "execution_count": null,
   "metadata": {},
   "outputs": [],
   "source": []
  },
  {
   "cell_type": "code",
   "execution_count": null,
   "metadata": {},
   "outputs": [],
   "source": []
  },
  {
   "cell_type": "code",
   "execution_count": 108,
   "metadata": {},
   "outputs": [],
   "source": [
    "def snippet (doc_id, q):\n",
    "    q = clean(q)\n",
    "    sent_doc = pd.DataFrame()\n",
    "    cosine_df = pd.DataFrame()\n",
    "    \n",
    "    #Grab Full doc from corpus, since I dont keep periods\n",
    "    doc = data_combined.loc[data_combined.index == doc_id, 'content'].item()\n",
    "    \n",
    "    #Tokenize into sentences and clean\n",
    "    sent_doc['sent'] = sent_tokenize(doc)\n",
    "    sent_doc['clean'] = [clean(x) for x in sent_doc.sent]\n",
    "    \n",
    "    #Create vector from query and sentence\n",
    "    cosine = []\n",
    "    for x in sent_doc.clean:\n",
    "        x_set = set(x)\n",
    "        q_set = set(q)\n",
    "        vector = x_set.union(q_set)\n",
    "    \n",
    "    #Calculate vectore values for both\n",
    "        q_v = []\n",
    "        s_v = []\n",
    "        for w in vector:\n",
    "            if w in q_set:\n",
    "                q_v_temp = index_food_tfidf.loc[index_food_tfidf.word == w]['tf-idf'].item().get(doc_id)\n",
    "                if(q_v_temp == None):\n",
    "                    q_v.append(0)\n",
    "                else:\n",
    "                    q_v.append(q_v_temp)\n",
    "            else:\n",
    "                q_v.append(0)\n",
    "            if w in x_set:\n",
    "                s_v_temp = index_food_tfidf.loc[index_food_tfidf.word == w]['tf-idf'].item().get(doc_id)\n",
    "                if(s_v_temp == None):\n",
    "                    s_v.append(0)\n",
    "                else:\n",
    "                    s_v.append(s_v_temp)\n",
    "            else:\n",
    "                s_v.append(0)\n",
    "    \n",
    "    #Calcumate cosine simularity\n",
    "        c = 0\n",
    "        for i in range(len(vector)):\n",
    "            c += q_v[i] * s_v[i]\n",
    "        cosine.append(c / math.sqrt((math.pow(sum(q_v), 2)) * (math.pow(sum(s_v), 2))))\n",
    "    cosine_df['sim'] = cosine\n",
    "    cosine_df = cosine_df.sort_values(by=['sim'], ascending =False).reset_index()\n",
    "    sent_pos = list(cosine_df[0:3]['index'])\n",
    "    \n",
    "\n",
    "    snip = []\n",
    "    snip.append(data_combined.name[doc_id])\n",
    "    for x in sent_pos:\n",
    "        snip.append(sent_doc.sent[x])\n",
    "    return snip"
   ]
  },
  {
   "cell_type": "code",
   "execution_count": 53,
   "metadata": {
    "scrolled": true
   },
   "outputs": [],
   "source": [
    "lemmatizer = WordNetLemmatizer()\n",
    "stops = stopwords.words('english')\n",
    "coll_stops = [\"prepare\", \"course\", \"dietary\", \"easy\", \"pepper\", \"recipe\", \"salt\"]\n",
    "stops.extend(coll_stops)\n",
    "ps = PorterStemmer()\n",
    "\n",
    "stops.extend(coll_stops)\n",
    "\n",
    "def clean(doc):\n",
    "    doc_low = doc.lower().replace(\"–\", \" \")\n",
    "    words = word_tokenize(doc_low)\n",
    "    words = [lemmatizer.lemmatize(w).strip() for w in words if not w in stops and w.isalpha()]\n",
    "    words = [ps.stem(w) for w in words]\n",
    "    return words"
   ]
  },
  {
   "cell_type": "code",
   "execution_count": 103,
   "metadata": {},
   "outputs": [],
   "source": [
    "def get_candidate_resources(query):\n",
    "    clean_query = clean(query)\n",
    "    CR = []\n",
    "    word_key_list = []\n",
    "    if len(clean_query) == 1:\n",
    "        only_word = clean_query[0]    #sw = single word\n",
    "        sw_dict = index_food_tfidf.loc[index_food_tfidf.word == only_word, 'tf-idf'].item()\n",
    "        CR.extend(list(sw_dict.keys()))\n",
    "        if len(CR) > 50:\n",
    "            return CR[:50]\n",
    "        else: return CR\n",
    "    for w in clean_query:\n",
    "        w_dict = index_food_tfidf.loc[index_food_tfidf.word == w, 'tf-idf'].item()\n",
    "        word_key_list.append(list(w_dict.keys()))\n",
    "    CR.extend(set(word_key_list[0]).intersection(*word_key_list[1:]))\n",
    "    if len(clean_query) == 2:\n",
    "        if len(CR)<50:\n",
    "            first_word = clean_query[0]\n",
    "            second_word = clean_query[1]\n",
    "            first_dict = index_food_tfidf.loc[index_food_tfidf.word == first_word, 'tf-idf'].item()\n",
    "            second_dict = index_food_tfidf.loc[index_food_tfidf.word == second_word, 'tf-idf'].item()\n",
    "            CR.extend(list(first_dict.keys()))\n",
    "            CR.extend(list(second_dict.keys()))\n",
    "            if len(set(CR))>50:\n",
    "                return CR[:50]\n",
    "            else: return set(CR)\n",
    "        else:\n",
    "            if len(CR)>50: return CR[:50]\n",
    "            else: return CR\n",
    "    elif len(CR)<50:     #if the list of candidate resources is less than 50\n",
    "        combs = combinations(clean_query, len(query)-1)     #use n-1 terms from the query\n",
    "        for comb in list(combs):        #for combination in combinations\n",
    "            word_key_list = []\n",
    "            for w in list(comb):        #for word in n-1 combination\n",
    "                w_dict = index_food_tfidf.loc[index_food_tfidf.word == w, 'tf-idf'].item()\n",
    "                word_key_list.append(list(w_dict.keys()))\n",
    "            CR.extend(set(word_key_list[0]).intersection(*word_key_list[1:])) #find the intersection between all n-1 query terms\n",
    "            CR = set(CR)\n",
    "            if len(set(CR))<50:\n",
    "                continue\n",
    "            elif len(set(CR))>50:\n",
    "                CR = set(CR)[:49]\n",
    "                break\n",
    "            else: break\n",
    "    return CR[:50]"
   ]
  },
  {
   "cell_type": "code",
   "execution_count": null,
   "metadata": {},
   "outputs": [],
   "source": []
  },
  {
   "cell_type": "code",
   "execution_count": null,
   "metadata": {},
   "outputs": [],
   "source": []
  },
  {
   "cell_type": "code",
   "execution_count": 102,
   "metadata": {},
   "outputs": [],
   "source": [
    "def relevance_ranking(q, cand_resources):\n",
    "    clean_query = clean(q)\n",
    "    rel_docs = {}\n",
    "    rel_score = 0\n",
    "    if len(clean_query)==1:\n",
    "        w = clean_query[0]\n",
    "        tfidf_dict = index_food_tfidf.loc[index_food_tfidf.word == w, 'tf-idf'].item()\n",
    "        for d in cand_resources:\n",
    "            result = tfidf_dict[d]\n",
    "            rel_docs[d] = result\n",
    "    else:\n",
    "        for d in cand_resources:\n",
    "            for word in clean_query:\n",
    "                tfidf_dict = index_food_tfidf.loc[index_food_tfidf.word == word, 'tf-idf'].item()\n",
    "                if tfidf_dict.get(d):\n",
    "                    result = tfidf_dict[d]\n",
    "                    rel_score += result\n",
    "            rel_docs[d] = rel_score\n",
    "    sorted_rel_docs = sorted(rel_docs.items(), key=operator.itemgetter(1), reverse=True)\n",
    "    results = [i[0] for i in sorted_rel_docs[:5]]\n",
    "    return results"
   ]
  },
  {
   "cell_type": "code",
   "execution_count": 150,
   "metadata": {
    "scrolled": true
   },
   "outputs": [],
   "source": [
    "q = \"turducken\"\n",
    "r = get_candidate_resources(q)"
   ]
  },
  {
   "cell_type": "code",
   "execution_count": 151,
   "metadata": {
    "scrolled": true
   },
   "outputs": [
    {
     "data": {
      "text/plain": [
       "4"
      ]
     },
     "execution_count": 151,
     "metadata": {},
     "output_type": "execute_result"
    }
   ],
   "source": [
    "len(r)"
   ]
  },
  {
   "cell_type": "code",
   "execution_count": 152,
   "metadata": {
    "scrolled": true
   },
   "outputs": [],
   "source": [
    "ranked_resources = relevance_ranking(q, r)"
   ]
  },
  {
   "cell_type": "code",
   "execution_count": 153,
   "metadata": {
    "scrolled": true
   },
   "outputs": [
    {
     "data": {
      "text/plain": [
       "[219678, 217771, 217772, 212645]"
      ]
     },
     "execution_count": 153,
     "metadata": {},
     "output_type": "execute_result"
    }
   ],
   "source": [
    "ranked_resources"
   ]
  },
  {
   "cell_type": "code",
   "execution_count": 157,
   "metadata": {},
   "outputs": [
    {
     "data": {
      "text/plain": [
       "['umami stuffing',\n",
       " 'the rich earthiness of this dish is a nice counterpart to sweeter aspects of a thanksgiving meal as well as a pleasant support for the meat, be it ham or turkey, or even tofurkey or turducken.',\n",
       " 'time-to-make course preparation occasion stuffings-dressings side-dishes holiday-event thanksgiving taste-mood savory 4-hours-or-less a recipe developed on the fly for thanksgiving 2008 when there was a disagreement about how the stuffing should be prepared; i wanted savory, everyone else wanted sweet.',\n",
       " 'at the end of the day, there was less of mine to put away.']"
      ]
     },
     "execution_count": 157,
     "metadata": {},
     "output_type": "execute_result"
    }
   ],
   "source": [
    "q = 'turducken'\n",
    "snippet(219678, q)"
   ]
  },
  {
   "cell_type": "code",
   "execution_count": 158,
   "metadata": {},
   "outputs": [
    {
     "data": {
      "text/plain": [
       "['turducken  a chicken in a duck in a turkey',\n",
       " 'course main-ingredient cuisine preparation occasion north-american for-large-groups very-low-carbs main-dish poultry oven dinner-party holiday-event chicken turkey dietary christmas thanksgiving high-protein low-carb high-in-something low-in-something meat duck whole-turkey equipment number-of-servings a turducken is a de-boned turkey stuffed with a de-boned duck, which itself is stuffed with a small de-boned chicken.',\n",
       " 'the name is a portmanteau of those ingredients, turkey, duck, and chicken.',\n",
       " 'the birds can be deboned the day before to save some time since this recipe requires a long slow cook time.']"
      ]
     },
     "execution_count": 158,
     "metadata": {},
     "output_type": "execute_result"
    }
   ],
   "source": [
    "snippet(217771, q)"
   ]
  },
  {
   "cell_type": "code",
   "execution_count": 159,
   "metadata": {
    "scrolled": true
   },
   "outputs": [
    {
     "data": {
      "text/plain": [
       "['turducken roulade',\n",
       " 'time-to-make course main-ingredient cuisine preparation occasion north-american main-dish poultry american cajun southern-united-states holiday-event thanksgiving meat 4-hours-or-less this is a roulade version of the cajun specialty turducken.',\n",
       " 'i am also posting recipes for the cajun cornbread stuffing and the cajun rice dressing used in this recipe.',\n",
       " 'boneless turkey breast boneless duck breast boneless chicken breast cornbread stuffing mix rice dressing bacon']"
      ]
     },
     "execution_count": 159,
     "metadata": {},
     "output_type": "execute_result"
    }
   ],
   "source": [
    "snippet(217772, q)"
   ]
  },
  {
   "cell_type": "code",
   "execution_count": 160,
   "metadata": {},
   "outputs": [
    {
     "data": {
      "text/plain": [
       "['the turducken of thanksgiving sides',\n",
       " 'now your turducken thanksgiving just got real!',\n",
       " '60-minutes-or-less time-to-make course main-ingredient preparation occasion yams-sweet-potatoes low-protein stuffings-dressings side-dishes potatoes vegetables holiday-event dietary thanksgiving low-in-something mashed-potatoes mashed sweet potatoes with pecans centered by perfectly mashed potatoes in a stuffing crust.',\n",
       " 'this side dish is easy to put together and simply delicious!']"
      ]
     },
     "execution_count": 160,
     "metadata": {},
     "output_type": "execute_result"
    }
   ],
   "source": [
    "snippet(212645, q)"
   ]
  },
  {
   "cell_type": "code",
   "execution_count": 156,
   "metadata": {
    "scrolled": true
   },
   "outputs": [],
   "source": [
    "#snippet(41320, q)"
   ]
  },
  {
   "cell_type": "code",
   "execution_count": null,
   "metadata": {},
   "outputs": [],
   "source": []
  },
  {
   "cell_type": "code",
   "execution_count": null,
   "metadata": {},
   "outputs": [],
   "source": []
  },
  {
   "cell_type": "code",
   "execution_count": null,
   "metadata": {},
   "outputs": [],
   "source": []
  }
 ],
 "metadata": {
  "kernelspec": {
   "display_name": "Python 3",
   "language": "python",
   "name": "python3"
  },
  "language_info": {
   "codemirror_mode": {
    "name": "ipython",
    "version": 3
   },
   "file_extension": ".py",
   "mimetype": "text/x-python",
   "name": "python",
   "nbconvert_exporter": "python",
   "pygments_lexer": "ipython3",
   "version": "3.6.8"
  }
 },
 "nbformat": 4,
 "nbformat_minor": 2
}
